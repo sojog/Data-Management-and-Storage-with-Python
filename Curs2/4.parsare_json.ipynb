{
 "cells": [
  {
   "cell_type": "code",
   "execution_count": 1,
   "metadata": {},
   "outputs": [],
   "source": [
    "import json\n",
    "from pprint import pprint"
   ]
  },
  {
   "cell_type": "code",
   "execution_count": 2,
   "metadata": {},
   "outputs": [
    {
     "name": "stdout",
     "output_type": "stream",
     "text": [
      "<class 'dict'>\n",
      "{'groups': [{'name': 'Group A',\n",
      "             'teams': [{'code': 'HUN', 'name': 'Hungary'},\n",
      "                       {'code': 'SUI', 'name': 'Switzerland'},\n",
      "                       {'code': 'GER', 'name': 'Germany'},\n",
      "                       {'code': 'SCO', 'name': 'Scotland'}]},\n",
      "            {'name': 'Group B',\n",
      "             'teams': [{'code': 'ESP', 'name': 'Spain'},\n",
      "                       {'code': 'ITA', 'name': 'Italy'},\n",
      "                       {'code': 'CRO', 'name': 'Croatia'},\n",
      "                       {'code': 'ALB', 'name': 'Albania'}]},\n",
      "            {'name': 'Group C',\n",
      "             'teams': [{'code': 'DEN', 'name': 'Denmark'},\n",
      "                       {'code': 'ENG', 'name': 'England'},\n",
      "                       {'code': 'SVN', 'name': 'Slovenia'},\n",
      "                       {'code': 'SRB', 'name': 'Serbia'}]},\n",
      "            {'name': 'Group D',\n",
      "             'teams': [{'code': 'FRA', 'name': 'France'},\n",
      "                       {'code': 'AUT', 'name': 'Austria'},\n",
      "                       {'code': 'POL', 'name': 'Poland'},\n",
      "                       {'code': 'NED', 'name': 'Netherlands'}]},\n",
      "            {'name': 'Group E',\n",
      "             'teams': [{'code': 'ROU', 'name': 'Romania'},\n",
      "                       {'code': 'UKR', 'name': 'Ukraine'},\n",
      "                       {'code': 'SVK', 'name': 'Slovakia'},\n",
      "                       {'code': 'BEL', 'name': 'Belgium'}]},\n",
      "            {'name': 'Group F',\n",
      "             'teams': [{'code': 'CZE', 'name': 'Czech Republic'},\n",
      "                       {'code': 'POR', 'name': 'Portugal'},\n",
      "                       {'code': 'TUR', 'name': 'Turkey'},\n",
      "                       {'code': 'GEO', 'name': 'Georgia'}]}],\n",
      " 'name': 'Euro 2024'}\n"
     ]
    }
   ],
   "source": [
    "with open(\"euro_2024.json\") as file_handler:\n",
    "    continut_parsat = json.load(file_handler)\n",
    "    print(type(continut_parsat))\n",
    "    pprint(continut_parsat)"
   ]
  },
  {
   "cell_type": "code",
   "execution_count": 3,
   "metadata": {},
   "outputs": [
    {
     "name": "stdout",
     "output_type": "stream",
     "text": [
      "dict_keys(['name', 'groups'])\n"
     ]
    }
   ],
   "source": [
    "print(continut_parsat.keys())"
   ]
  },
  {
   "cell_type": "code",
   "execution_count": 4,
   "metadata": {},
   "outputs": [
    {
     "data": {
      "text/plain": [
       "dict_keys(['name', 'groups'])"
      ]
     },
     "execution_count": 4,
     "metadata": {},
     "output_type": "execute_result"
    }
   ],
   "source": [
    "continut_parsat.keys()"
   ]
  },
  {
   "cell_type": "code",
   "execution_count": 5,
   "metadata": {},
   "outputs": [],
   "source": [
    "tara_cautata = \"Romania\""
   ]
  },
  {
   "cell_type": "code",
   "execution_count": 6,
   "metadata": {},
   "outputs": [
    {
     "name": "stdout",
     "output_type": "stream",
     "text": [
      "<class 'list'>\n",
      "[{'name': 'Group A',\n",
      "  'teams': [{'code': 'HUN', 'name': 'Hungary'},\n",
      "            {'code': 'SUI', 'name': 'Switzerland'},\n",
      "            {'code': 'GER', 'name': 'Germany'},\n",
      "            {'code': 'SCO', 'name': 'Scotland'}]},\n",
      " {'name': 'Group B',\n",
      "  'teams': [{'code': 'ESP', 'name': 'Spain'},\n",
      "            {'code': 'ITA', 'name': 'Italy'},\n",
      "            {'code': 'CRO', 'name': 'Croatia'},\n",
      "            {'code': 'ALB', 'name': 'Albania'}]},\n",
      " {'name': 'Group C',\n",
      "  'teams': [{'code': 'DEN', 'name': 'Denmark'},\n",
      "            {'code': 'ENG', 'name': 'England'},\n",
      "            {'code': 'SVN', 'name': 'Slovenia'},\n",
      "            {'code': 'SRB', 'name': 'Serbia'}]},\n",
      " {'name': 'Group D',\n",
      "  'teams': [{'code': 'FRA', 'name': 'France'},\n",
      "            {'code': 'AUT', 'name': 'Austria'},\n",
      "            {'code': 'POL', 'name': 'Poland'},\n",
      "            {'code': 'NED', 'name': 'Netherlands'}]},\n",
      " {'name': 'Group E',\n",
      "  'teams': [{'code': 'ROU', 'name': 'Romania'},\n",
      "            {'code': 'UKR', 'name': 'Ukraine'},\n",
      "            {'code': 'SVK', 'name': 'Slovakia'},\n",
      "            {'code': 'BEL', 'name': 'Belgium'}]},\n",
      " {'name': 'Group F',\n",
      "  'teams': [{'code': 'CZE', 'name': 'Czech Republic'},\n",
      "            {'code': 'POR', 'name': 'Portugal'},\n",
      "            {'code': 'TUR', 'name': 'Turkey'},\n",
      "            {'code': 'GEO', 'name': 'Georgia'}]}]\n"
     ]
    }
   ],
   "source": [
    "groups = continut_parsat[\"groups\"]\n",
    "pprint(type(groups))\n",
    "pprint(groups)"
   ]
  },
  {
   "cell_type": "code",
   "execution_count": 7,
   "metadata": {},
   "outputs": [
    {
     "name": "stdout",
     "output_type": "stream",
     "text": [
      "<class 'dict'>\n",
      "[{'code': 'HUN', 'name': 'Hungary'},\n",
      " {'code': 'SUI', 'name': 'Switzerland'},\n",
      " {'code': 'GER', 'name': 'Germany'},\n",
      " {'code': 'SCO', 'name': 'Scotland'}]\n",
      "<class 'dict'>\n",
      "{'code': 'HUN', 'name': 'Hungary'}\n",
      "<class 'dict'>\n",
      "{'code': 'SUI', 'name': 'Switzerland'}\n",
      "<class 'dict'>\n",
      "{'code': 'GER', 'name': 'Germany'}\n",
      "<class 'dict'>\n",
      "{'code': 'SCO', 'name': 'Scotland'}\n",
      "<class 'dict'>\n",
      "[{'code': 'ESP', 'name': 'Spain'},\n",
      " {'code': 'ITA', 'name': 'Italy'},\n",
      " {'code': 'CRO', 'name': 'Croatia'},\n",
      " {'code': 'ALB', 'name': 'Albania'}]\n",
      "<class 'dict'>\n",
      "{'code': 'ESP', 'name': 'Spain'}\n",
      "<class 'dict'>\n",
      "{'code': 'ITA', 'name': 'Italy'}\n",
      "<class 'dict'>\n",
      "{'code': 'CRO', 'name': 'Croatia'}\n",
      "<class 'dict'>\n",
      "{'code': 'ALB', 'name': 'Albania'}\n",
      "<class 'dict'>\n",
      "[{'code': 'DEN', 'name': 'Denmark'},\n",
      " {'code': 'ENG', 'name': 'England'},\n",
      " {'code': 'SVN', 'name': 'Slovenia'},\n",
      " {'code': 'SRB', 'name': 'Serbia'}]\n",
      "<class 'dict'>\n",
      "{'code': 'DEN', 'name': 'Denmark'}\n",
      "<class 'dict'>\n",
      "{'code': 'ENG', 'name': 'England'}\n",
      "<class 'dict'>\n",
      "{'code': 'SVN', 'name': 'Slovenia'}\n",
      "<class 'dict'>\n",
      "{'code': 'SRB', 'name': 'Serbia'}\n",
      "<class 'dict'>\n",
      "[{'code': 'FRA', 'name': 'France'},\n",
      " {'code': 'AUT', 'name': 'Austria'},\n",
      " {'code': 'POL', 'name': 'Poland'},\n",
      " {'code': 'NED', 'name': 'Netherlands'}]\n",
      "<class 'dict'>\n",
      "{'code': 'FRA', 'name': 'France'}\n",
      "<class 'dict'>\n",
      "{'code': 'AUT', 'name': 'Austria'}\n",
      "<class 'dict'>\n",
      "{'code': 'POL', 'name': 'Poland'}\n",
      "<class 'dict'>\n",
      "{'code': 'NED', 'name': 'Netherlands'}\n",
      "<class 'dict'>\n",
      "[{'code': 'ROU', 'name': 'Romania'},\n",
      " {'code': 'UKR', 'name': 'Ukraine'},\n",
      " {'code': 'SVK', 'name': 'Slovakia'},\n",
      " {'code': 'BEL', 'name': 'Belgium'}]\n",
      "<class 'dict'>\n",
      "{'code': 'ROU', 'name': 'Romania'}\n",
      "Romania se afla in grupa Group E\n",
      "<class 'dict'>\n",
      "[{'code': 'CZE', 'name': 'Czech Republic'},\n",
      " {'code': 'POR', 'name': 'Portugal'},\n",
      " {'code': 'TUR', 'name': 'Turkey'},\n",
      " {'code': 'GEO', 'name': 'Georgia'}]\n",
      "<class 'dict'>\n",
      "{'code': 'CZE', 'name': 'Czech Republic'}\n",
      "<class 'dict'>\n",
      "{'code': 'POR', 'name': 'Portugal'}\n",
      "<class 'dict'>\n",
      "{'code': 'TUR', 'name': 'Turkey'}\n",
      "<class 'dict'>\n",
      "{'code': 'GEO', 'name': 'Georgia'}\n"
     ]
    }
   ],
   "source": [
    "for gr in groups:\n",
    "    print(type(gr)) \n",
    "    pprint(gr[\"teams\"])\n",
    "    for team in gr[\"teams\"]:\n",
    "        print(type(team)) \n",
    "        pprint(team)\n",
    "        if team[\"name\"] == tara_cautata:\n",
    "            print(f'{tara_cautata} se afla in grupa {gr[\"name\"]}')\n",
    "            break"
   ]
  }
 ],
 "metadata": {
  "kernelspec": {
   "display_name": "Python 3",
   "language": "python",
   "name": "python3"
  },
  "language_info": {
   "codemirror_mode": {
    "name": "ipython",
    "version": 3
   },
   "file_extension": ".py",
   "mimetype": "text/x-python",
   "name": "python",
   "nbconvert_exporter": "python",
   "pygments_lexer": "ipython3",
   "version": "3.12.0"
  }
 },
 "nbformat": 4,
 "nbformat_minor": 2
}
