{
 "cells": [
  {
   "cell_type": "code",
   "execution_count": 2,
   "metadata": {},
   "outputs": [],
   "source": [
    "import requests\n",
    "import json"
   ]
  },
  {
   "cell_type": "code",
   "execution_count": null,
   "metadata": {},
   "outputs": [
    {
     "name": "stdout",
     "output_type": "stream",
     "text": [
      "b'{\"id\":\"6MZobUfVKuc\",\"joke\":\"I just read a book about Stockholm syndrome. It was pretty bad at first, but by the end I liked it.\",\"status\":200}\\n'\n"
     ]
    }
   ],
   "source": [
    "URL = \"https://icanhazdadjoke.com/\"\n",
    "headers = {\n",
    "    'Accept':'application/json'\n",
    "}\n",
    "response = requests.get(URL,headers=headers)\n",
    "print(response.content)"
   ]
  },
  {
   "cell_type": "code",
   "execution_count": 6,
   "metadata": {},
   "outputs": [
    {
     "data": {
      "text/plain": [
       "'I just read a book about Stockholm syndrome. It was pretty bad at first, but by the end I liked it.'"
      ]
     },
     "execution_count": 6,
     "metadata": {},
     "output_type": "execute_result"
    }
   ],
   "source": [
    "response.json()['joke']"
   ]
  },
  {
   "cell_type": "code",
   "execution_count": 8,
   "metadata": {},
   "outputs": [
    {
     "name": "stdout",
     "output_type": "stream",
     "text": [
      "A bartender broke up with her boyfriend, but he kept asking her for another shot.\n"
     ]
    }
   ],
   "source": [
    "URL = \"https://icanhazdadjoke.com/\"\n",
    "headers = {\n",
    "    'Accept':'text/plain'\n",
    "}\n",
    "response = requests.get(URL,headers=headers)\n",
    "print(response.text)"
   ]
  }
 ],
 "metadata": {
  "kernelspec": {
   "display_name": "Python 3",
   "language": "python",
   "name": "python3"
  },
  "language_info": {
   "codemirror_mode": {
    "name": "ipython",
    "version": 3
   },
   "file_extension": ".py",
   "mimetype": "text/x-python",
   "name": "python",
   "nbconvert_exporter": "python",
   "pygments_lexer": "ipython3",
   "version": "3.12.0"
  }
 },
 "nbformat": 4,
 "nbformat_minor": 2
}
