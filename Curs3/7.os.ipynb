{
 "cells": [
  {
   "cell_type": "code",
   "execution_count": 1,
   "metadata": {},
   "outputs": [],
   "source": [
    "import os"
   ]
  },
  {
   "cell_type": "code",
   "execution_count": 4,
   "metadata": {},
   "outputs": [
    {
     "name": "stdout",
     "output_type": "stream",
     "text": [
      "['.DS_Store', '3.techy_json.py', '1.techy_text.ipynb', '5.jokes.ipynb', 'techy.json', '6.jokes_image.py', '2.techy_text.py', '4.techy_json.ipynb', 'techy.txt', '7.os.ipynb']\n"
     ]
    }
   ],
   "source": [
    "print(os.listdir())"
   ]
  },
  {
   "cell_type": "code",
   "execution_count": 5,
   "metadata": {},
   "outputs": [
    {
     "name": "stdout",
     "output_type": "stream",
     "text": [
      "/Users/silviu/Documents/ZZ_DESKTOP_OLD_MC/LinkAcademy/Python_Track/____24_25/4.DataManagement/cursuri/Curs3\n"
     ]
    }
   ],
   "source": [
    "print(os.getcwd())"
   ]
  },
  {
   "cell_type": "code",
   "execution_count": 10,
   "metadata": {},
   "outputs": [
    {
     "name": "stdout",
     "output_type": "stream",
     "text": [
      "Nu sunt permisiuni\n"
     ]
    }
   ],
   "source": [
    "try:\n",
    "    os.remove(\"osfolder\")\n",
    "except PermissionError:\n",
    "    print(\"Nu sunt permisiuni\")"
   ]
  },
  {
   "cell_type": "code",
   "execution_count": 11,
   "metadata": {},
   "outputs": [
    {
     "name": "stdout",
     "output_type": "stream",
     "text": [
      "Fisierul exista deja\n"
     ]
    }
   ],
   "source": [
    "try:\n",
    "    os.mkdir(\"osfolder\")\n",
    "except FileExistsError:\n",
    "    print(\"Fisierul exista deja\")"
   ]
  },
  {
   "cell_type": "code",
   "execution_count": 12,
   "metadata": {},
   "outputs": [
    {
     "name": "stdout",
     "output_type": "stream",
     "text": [
      "folderul exista deja\n"
     ]
    }
   ],
   "source": [
    "if os.path.isdir(\"osfolder\"):\n",
    "    print(\"folderul exista deja\")\n",
    "else:\n",
    "    print(\"folderul nu exista\")\n"
   ]
  }
 ],
 "metadata": {
  "kernelspec": {
   "display_name": "Python 3",
   "language": "python",
   "name": "python3"
  },
  "language_info": {
   "codemirror_mode": {
    "name": "ipython",
    "version": 3
   },
   "file_extension": ".py",
   "mimetype": "text/x-python",
   "name": "python",
   "nbconvert_exporter": "python",
   "pygments_lexer": "ipython3",
   "version": "3.12.0"
  }
 },
 "nbformat": 4,
 "nbformat_minor": 2
}
